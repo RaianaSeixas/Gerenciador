{
  "nbformat": 4,
  "nbformat_minor": 0,
  "metadata": {
    "colab": {
      "name": "DE_jun_16_2019.ipynb",
      "version": "0.3.2",
      "provenance": [],
      "collapsed_sections": [],
      "include_colab_link": true
    },
    "kernelspec": {
      "name": "python3",
      "display_name": "Python 3"
    }
  },
  "cells": [
    {
      "cell_type": "markdown",
      "metadata": {
        "id": "view-in-github",
        "colab_type": "text"
      },
      "source": [
        "<a href=\"https://colab.research.google.com/github/RaianaSeixas/GERENCIADOR/blob/master/DE_jun_16_2019.ipynb\" target=\"_parent\"><img src=\"https://colab.research.google.com/assets/colab-badge.svg\" alt=\"Open In Colab\"/></a>"
      ]
    },
    {
      "cell_type": "code",
      "metadata": {
        "id": "DhYBZbKGWSve",
        "colab_type": "code",
        "colab": {
          "base_uri": "https://localhost:8080/",
          "height": 33
        },
        "outputId": "15083caf-ee0a-4ce3-ab9c-09ce18fcfa57"
      },
      "source": [
        "import numpy as np\n",
        "\n",
        "'''https://pablormier.github.io/2017/09/05/a-tutorial-on-differential-evolution-with-python/'''"
      ],
      "execution_count": 1,
      "outputs": [
        {
          "output_type": "execute_result",
          "data": {
            "text/plain": [
              "'https://pablormier.github.io/2017/09/05/a-tutorial-on-differential-evolution-with-python/'"
            ]
          },
          "metadata": {
            "tags": []
          },
          "execution_count": 1
        }
      ]
    },
    {
      "cell_type": "code",
      "metadata": {
        "id": "q8yPdi-5Wdt2",
        "colab_type": "code",
        "colab": {}
      },
      "source": [
        "def fobj(x):\n",
        "    summ=0\n",
        "    for i in range(len(x)):\n",
        "        new=x[i]*np.sin((abs(x[i]))**0.5)\n",
        "        summ=summ+new\n",
        "#        print(summ)\n",
        "    return (418.9829*len(x)-summ) "
      ],
      "execution_count": 0,
      "outputs": []
    },
    {
      "cell_type": "code",
      "metadata": {
        "id": "T_ejDzcvWRFT",
        "colab_type": "code",
        "colab": {}
      },
      "source": [
        "def de(fobj, bounds, mut, crossp, popsize, its):\n",
        "\n",
        "  dimensions = len(bounds)\n",
        "  \n",
        "  pop = np.random.rand(popsize, dimensions)\n",
        "  min_b, max_b = np.asarray(bounds).T\n",
        "  diff = np.fabs(min_b - max_b)\n",
        "  pop_denorm = min_b + pop * diff\n",
        "  fitness = np.asarray([fobj(ind) for ind in pop_denorm])\n",
        "  best_idx = np.argmin(fitness)\n",
        "  best = pop_denorm[best_idx]\n",
        "  for i in range(its):\n",
        "    for j in range(popsize):\n",
        "      idxs = [idx for idx in range(popsize) if idx != j]\n",
        "      a, b, c = pop[np.random.choice(idxs, 3, replace = False)]\n",
        "      mutant = np.clip(a + mut * (b - c), 0, 1)\n",
        "      cross_points = np.random.rand(dimensions) < crossp\n",
        "      if not np.any(cross_points):\n",
        "        cross_points[np.random.randint(0, dimensions)] = True\n",
        "      trial = np.where(cross_points, mutant, pop[j])\n",
        "      trial_denorm = min_b + trial * diff\n",
        "      f = fobj(trial_denorm)\n",
        "      if f < fitness[j]:\n",
        "        fitness[j] = f\n",
        "        pop[j] = trial\n",
        "        if f < fitness[best_idx]:\n",
        "          best_idx = j\n",
        "          best = trial\n",
        "          \n",
        "    pop_denorm = min_b + pop * diff\n",
        "    fitness = np.asarray([fobj(ind) for ind in pop_denorm])\n",
        "\n",
        "  fitness = np.asarray([fobj(ind) for ind in pop_denorm])\n",
        "  best_idx = np.argmin(fitness)\n",
        "  best = pop_denorm[best_idx]\n",
        "  fobj_best = fitness[best_idx]\n",
        "\n",
        "  \n",
        "  return best,fobj_best"
      ],
      "execution_count": 0,
      "outputs": []
    },
    {
      "cell_type": "code",
      "metadata": {
        "id": "yUQTrShUAeRX",
        "colab_type": "code",
        "colab": {
          "base_uri": "https://localhost:8080/",
          "height": 353
        },
        "outputId": "2de21a65-ee65-4c23-9bf7-582f326fb925"
      },
      "source": [
        "bounds=[(-500, 500)] *8\n",
        "mut=0.5\n",
        "crossp=0.7\n",
        "popsize=175\n",
        "its=300\n",
        "\n",
        "for i in range(10):\n",
        "  best, fobj_best=de(fobj, bounds, mut, crossp, popsize, its)\n",
        "\n",
        "  print(i,\" - best\",best,\"fo=\",fobj_best)"
      ],
      "execution_count": 4,
      "outputs": [
        {
          "output_type": "stream",
          "text": [
            "0  - best [420.66872127 419.07498963 417.0383161  423.94201428 418.66763247\n",
            " 422.91458498 420.6204385  420.00482053] fo= 4.802641883918568\n",
            "1  - best [421.68986188 420.98446023 420.87555505 420.96550205 420.94978141\n",
            " 421.14040403 421.48857862 421.13652388] fo= 0.10828337952989386\n",
            "2  - best [408.58998606 401.45137806 422.14098608 403.41612457 406.03109924\n",
            " 411.69268683 413.80332978 436.20396803] fo= 178.07559348390396\n",
            "3  - best [421.23337113 422.23132291 420.39567455 421.14891939 421.34876589\n",
            " 420.61475334 420.63832411 421.41805892] fo= 0.3289846222733104\n",
            "4  - best [419.21640301 421.06665693 418.22398903 421.23439885 422.55017085\n",
            " 421.55899527 420.87135986 421.33591426] fo= 1.7245382077462637\n",
            "5  - best [409.47931813 423.68029682 420.41993771 429.95373944 424.58223207\n",
            " 428.51301936 418.01087415 421.86191918] fo= 37.653945919383204\n",
            "6  - best [413.43094649 423.69975952 415.58513513 427.32860708 408.19467629\n",
            " 408.43722994 429.56808663 421.56386715] fo= 66.07521893442663\n",
            "7  - best [419.05368792 427.90755597 426.30050599 420.20671208 419.79877845\n",
            " 419.97946414 413.59057002 431.22329871] fo= 30.580436969099537\n",
            "8  - best [421.95120766 422.02028049 421.07494415 420.91951596 420.78958965\n",
            " 421.09519629 421.43541416 420.38587058] fo= 0.33965200700140485\n",
            "9  - best [422.29480511 409.54388183 430.95110758 427.06955811 415.51764188\n",
            " 398.95331925 404.88529437 440.6181567 ] fo= 176.8244899390338\n"
          ],
          "name": "stdout"
        }
      ]
    }
  ]
}