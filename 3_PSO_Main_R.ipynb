{
  "nbformat": 4,
  "nbformat_minor": 0,
  "metadata": {
    "colab": {
      "name": "3_PSO_Main_R.ipynb",
      "version": "0.3.2",
      "provenance": [],
      "collapsed_sections": [],
      "include_colab_link": true
    },
    "kernelspec": {
      "name": "python3",
      "display_name": "Python 3"
    }
  },
  "cells": [
    {
      "cell_type": "markdown",
      "metadata": {
        "id": "view-in-github",
        "colab_type": "text"
      },
      "source": [
        "<a href=\"https://colab.research.google.com/github/RaianaSeixas/GERENCIADOR/blob/master/3_PSO_Main_R.ipynb\" target=\"_parent\"><img src=\"https://colab.research.google.com/assets/colab-badge.svg\" alt=\"Open In Colab\"/></a>"
      ]
    },
    {
      "cell_type": "code",
      "metadata": {
        "id": "0Pbo_t71EnOQ",
        "colab_type": "code",
        "outputId": "fe5930fd-3a07-4bc9-da91-a279f4ad44ed",
        "colab": {
          "base_uri": "https://localhost:8080/",
          "height": 34
        }
      },
      "source": [
        "!git clone https://github.com/RaianaSeixas/GERENCIADOR.git #clonar do Github"
      ],
      "execution_count": 1,
      "outputs": [
        {
          "output_type": "stream",
          "text": [
            "fatal: destination path 'GERENCIADOR' already exists and is not an empty directory.\n"
          ],
          "name": "stdout"
        }
      ]
    },
    {
      "cell_type": "code",
      "metadata": {
        "id": "i7TxGwBkFBTK",
        "colab_type": "code",
        "outputId": "c6e721f2-aaa5-44c9-b9cf-fc52b3bad2d7",
        "colab": {
          "base_uri": "https://localhost:8080/",
          "height": 120
        }
      },
      "source": [
        "%cd\n",
        "%cd /content/GERENCIADOR\n",
        "!ls"
      ],
      "execution_count": 2,
      "outputs": [
        {
          "output_type": "stream",
          "text": [
            "/root\n",
            "/content/GERENCIADOR\n",
            "1_WOA_Main_R.ipynb    4_GWO_Main_R.ipynb    Enxame.py\t PSO.py\n",
            "2_ABC_Main_R.ipynb    ABCMC.py\t\t    Function.py  __pycache__\n",
            "2_ABCMC_Main_R.ipynb  ABC.py\t\t    GWO.py\t WOA.py\n",
            "3_PSO_Main_R.ipynb    DE_jun_16_2019.ipynb  MUT.py\n"
          ],
          "name": "stdout"
        }
      ]
    },
    {
      "cell_type": "code",
      "metadata": {
        "id": "Ufk5FCwZFf9y",
        "colab_type": "code",
        "outputId": "8cccd41d-da1e-4c07-a4f1-57f96b19552a",
        "colab": {
          "base_uri": "https://localhost:8080/",
          "height": 188
        }
      },
      "source": [
        "import PSO\n",
        "import Function\n",
        "import Enxame\n",
        "import numpy as np\n",
        "import time\n",
        "############################### Função\n",
        "'''\n",
        "Fun=Function.Rosenbrock\n",
        "dim=30\n",
        "MAX=np.repeat(10,dim)\n",
        "MIN=np.repeat(-10,dim)\n",
        "#MAX=[30,30] # MAXIMO DE CADA PARAMETRO\n",
        "#MIN=[-30,-30] # MINIMO DE CADA PARAMETRO\n",
        "  #Global optimum: f(xi)= 0\n",
        "'''\n",
        "'''\n",
        "Fun=Function.Shubert\n",
        "MAX=[10,10] # MAXIMO DE CADA PARAMETRO\n",
        "MIN=[-10,-10] # MINIMO DE CADA PARAMETRO\n",
        "  # Global Minimum: -186.7309 ; xi ∈ [-10,10]\n",
        "'''\n",
        "#'''\n",
        "dim=3\n",
        "Fun=Function.Schwefel\n",
        "MAX=np.repeat(500,dim)\n",
        "MIN=np.repeat(-500,dim)\n",
        "#MAX=[500,500] # MAXIMO DE CADA PARAMETRO\n",
        "#MIN=[-500,-500] # MINIMO DE CADA PARAMETRO\n",
        "  #Global optimum: f(xi)= 0 for xi = 420.968746 for i=1,...,n  ;  xi in [-500,500]  \n",
        "#'''\n",
        "\n",
        "############################### DADOS DE ENTRADA \n",
        "NPAR=175 # AGENTES\n",
        "ITE=300 #ITERACOES\n",
        "PAR=len(MAX) #NUM DE PARAMETROS A SER OTIMIZADOS\n",
        "RUNS=100\n",
        "\n",
        "'''\n",
        "W=0.75\n",
        "C1=2\n",
        "C2=2\n",
        "'''\n",
        "#'''\n",
        "W=0.5\n",
        "C1=1\n",
        "C2=1\n",
        "#'''\n",
        "start_time = time.time()\n",
        "############################## RESOLUÇÃO E IMPRESSÃO\n",
        "BEST_AGENTS=[]\n",
        "for i in range(RUNS):\n",
        "\n",
        "    X=Enxame.Enxame(PAR,NPAR,MAX,MIN) # inicializa partículas\n",
        "    \n",
        "    BEST_PSO,FOBEST_PSO,XY_PSO,BEST_XY_PSO=PSO.PSO(W,C1,C2,NPAR,ITE,PAR,MAX,MIN,Fun,X)\n",
        "    BEST_AGENTS.append(BEST_XY_PSO)\n",
        "\n",
        "\n",
        "#print(\" BEST=\",BEST_PSO,\"  FOBEST=\",FOBEST_PSO,\"\\n\")\n",
        "\n",
        "\n",
        "############################## Cálculo dos Parâmetros de Avaliação   \n",
        "TIME = (time.time() - start_time)/RUNS\n",
        "BEST_AGENTS=np.array(BEST_AGENTS)\n",
        "BEST_AGENTS_ST= BEST_AGENTS[BEST_AGENTS[:,-1].argsort()]\n",
        "BEST=BEST_AGENTS_ST[0]\n",
        "WORSE=BEST_AGENTS_ST[-1]\n",
        "MEAN=np.mean(BEST_AGENTS,axis=0)\n",
        "MAXFO=BEST_AGENTS[:,-1].max()\n",
        "MINFO=BEST_AGENTS[:,-1].min()\n",
        "STD=BEST_AGENTS[:,-1].std()\n",
        "\n",
        "print(\"\\n\",\"PSO _\",NPAR,\"Agentes _\",ITE,\"Iterações _\",\"Min/Max=\",MIN[0],\"/\",MAX[0],'_',Fun.__name__)\n",
        "print('Métodos simples:',NPAR,'Agentes_',ITE,'Iterações_','Dim=', PAR, '\\n')\n",
        "#print('BEST: ',BEST)\n",
        "#print('MÉDIA: ',MEAN)\n",
        "print('MÉDIA: ',MEAN[-1])\n",
        "print('MIN __: ',MINFO)\n",
        "print('MAX__: ',MAXFO)\n",
        "print('STD __: ',STD)\n",
        "print(\"Tempo Médio= %.3f segundos ---\" % (TIME)) \n",
        "print(RUNS,'Rodadas') "
      ],
      "execution_count": 3,
      "outputs": [
        {
          "output_type": "stream",
          "text": [
            "\n",
            " PSO _ 175 Agentes _ 300 Iterações _ Min/Max= -500 / 500 _ Schwefel\n",
            "Métodos simples: 175 Agentes_ 300 Iterações_ Dim= 3 \n",
            "\n",
            "MÉDIA:  99.90704480831036\n",
            "MIN __:  0.03031197009204334\n",
            "MAX__:  355.3568419668836\n",
            "STD __:  88.08951131111812\n",
            "Tempo Médio= 1.984 segundos ---\n",
            "100 Rodadas\n"
          ],
          "name": "stdout"
        }
      ]
    },
    {
      "cell_type": "code",
      "metadata": {
        "id": "s_ezY0WOPbfr",
        "colab_type": "code",
        "colab": {
          "base_uri": "https://localhost:8080/",
          "height": 406
        },
        "outputId": "1e79a9ca-1fa7-4902-f8fe-9bea509714a5"
      },
      "source": [
        "best=BEST_AGENTS[:,-1]\n",
        "import matplotlib.pyplot as plt\n",
        "plt.boxplot(best,showmeans=True)"
      ],
      "execution_count": 4,
      "outputs": [
        {
          "output_type": "execute_result",
          "data": {
            "text/plain": [
              "{'boxes': [<matplotlib.lines.Line2D at 0x7f02372cc198>],\n",
              " 'caps': [<matplotlib.lines.Line2D at 0x7f02372cc9b0>,\n",
              "  <matplotlib.lines.Line2D at 0x7f02372cccf8>],\n",
              " 'fliers': [<matplotlib.lines.Line2D at 0x7f02372e16d8>],\n",
              " 'means': [<matplotlib.lines.Line2D at 0x7f02372e13c8>],\n",
              " 'medians': [<matplotlib.lines.Line2D at 0x7f02372e1080>],\n",
              " 'whiskers': [<matplotlib.lines.Line2D at 0x7f02372cc320>,\n",
              "  <matplotlib.lines.Line2D at 0x7f02372cc668>]}"
            ]
          },
          "metadata": {
            "tags": []
          },
          "execution_count": 4
        },
        {
          "output_type": "display_data",
          "data": {
            "image/png": "[encoded data removed]",
            "text/plain": [
              "<Figure size 432x288 with 1 Axes>"
            ]
          },
          "metadata": {
            "tags": []
          }
        }
      ]
    },
    {
      "cell_type": "code",
      "metadata": {
        "id": "kB_888HOPcV-",
        "colab_type": "code",
        "colab": {
          "base_uri": "https://localhost:8080/",
          "height": 407
        },
        "outputId": "72a8c148-1e71-48ba-fd93-9aceea7ee914"
      },
      "source": [
        "plt.boxplot(best,showmeans=True,sym='')"
      ],
      "execution_count": 5,
      "outputs": [
        {
          "output_type": "execute_result",
          "data": {
            "text/plain": [
              "{'boxes': [<matplotlib.lines.Line2D at 0x7f0234a5c908>],\n",
              " 'caps': [<matplotlib.lines.Line2D at 0x7f0234a6b160>,\n",
              "  <matplotlib.lines.Line2D at 0x7f0234a6b4a8>],\n",
              " 'fliers': [],\n",
              " 'means': [<matplotlib.lines.Line2D at 0x7f0234a6bb38>],\n",
              " 'medians': [<matplotlib.lines.Line2D at 0x7f0234a6b7f0>],\n",
              " 'whiskers': [<matplotlib.lines.Line2D at 0x7f0234a5ca58>,\n",
              "  <matplotlib.lines.Line2D at 0x7f0234a5cdd8>]}"
            ]
          },
          "metadata": {
            "tags": []
          },
          "execution_count": 5
        },
        {
          "output_type": "display_data",
          "data": {
            "image/png": "[encoded data removed]",
            "text/plain": [
              "<Figure size 432x288 with 1 Axes>"
            ]
          },
          "metadata": {
            "tags": []
          }
        }
      ]
    }
  ]
}