{
  "nbformat": 4,
  "nbformat_minor": 0,
  "metadata": {
    "colab": {
      "name": "4_GWO_Main_R.ipynb",
      "version": "0.3.2",
      "provenance": [],
      "collapsed_sections": [],
      "include_colab_link": true
    },
    "kernelspec": {
      "name": "python3",
      "display_name": "Python 3"
    }
  },
  "cells": [
    {
      "cell_type": "markdown",
      "metadata": {
        "id": "view-in-github",
        "colab_type": "text"
      },
      "source": [
        "<a href=\"https://colab.research.google.com/github/RaianaSeixas/GERENCIADOR/blob/master/4_GWO_Main_R.ipynb\" target=\"_parent\"><img src=\"https://colab.research.google.com/assets/colab-badge.svg\" alt=\"Open In Colab\"/></a>"
      ]
    },
    {
      "cell_type": "code",
      "metadata": {
        "id": "NdfSSpbxE0pi",
        "colab_type": "code",
        "outputId": "50de7203-66b1-48ae-939a-0d84b858b991",
        "colab": {
          "base_uri": "https://localhost:8080/",
          "height": 34
        }
      },
      "source": [
        "!git clone https://github.com/RaianaSeixas/GERENCIADOR.git #clonar do Github"
      ],
      "execution_count": 0,
      "outputs": [
        {
          "output_type": "stream",
          "text": [
            "fatal: destination path 'GERENCIADOR' already exists and is not an empty directory.\n"
          ],
          "name": "stdout"
        }
      ]
    },
    {
      "cell_type": "code",
      "metadata": {
        "id": "d5OWWAdvFCev",
        "colab_type": "code",
        "outputId": "5ba55e4b-1e46-46f8-ee5b-745d962a5de6",
        "colab": {
          "base_uri": "https://localhost:8080/",
          "height": 85
        }
      },
      "source": [
        "%cd\n",
        "%cd /content/GERENCIADOR\n",
        "!ls"
      ],
      "execution_count": 0,
      "outputs": [
        {
          "output_type": "stream",
          "text": [
            "/root\n",
            "/content/GERENCIADOR\n",
            "ABC.py\t   Function.py\tGWO.py\tPSO.py\t     WOA.py\n",
            "Enxame.py  GERENCIADOR\tMUT.py\t__pycache__\n"
          ],
          "name": "stdout"
        }
      ]
    },
    {
      "cell_type": "code",
      "metadata": {
        "id": "5wQGeZ56FenW",
        "colab_type": "code",
        "outputId": "dbf66e33-51fc-4006-ce5a-0af6b0a42630",
        "colab": {
          "base_uri": "https://localhost:8080/",
          "height": 187
        }
      },
      "source": [
        "import GWO\n",
        "import Function\n",
        "import Enxame\n",
        "import time\n",
        "import numpy as np\n",
        "############################### Função\n",
        "'''\n",
        "Fun=Function.Rosenbrock\n",
        "dim=30\n",
        "MAX=np.repeat(10,dim)\n",
        "MIN=np.repeat(-10,dim)\n",
        "#MAX=[30,30] # MAXIMO DE CADA PARAMETRO\n",
        "#MIN=[-30,-30] # MINIMO DE CADA PARAMETRO\n",
        "  #Global optimum: f(xi)= 0\n",
        "'''\n",
        "'''\n",
        "Fun=Function.Shubert\n",
        "MAX=[10,10] # MAXIMO DE CADA PARAMETRO\n",
        "MIN=[-10,-10] # MINIMO DE CADA PARAMETRO\n",
        "  # Global Minimum: -186.7309 ; xi ∈ [-10,10]\n",
        "'''\n",
        "#'''\n",
        "dim=3\n",
        "Fun=Function.Schwefel\n",
        "MAX=np.repeat(500,dim)\n",
        "MIN=np.repeat(-500,dim)\n",
        "#MAX=[500,500] # MAXIMO DE CADA PARAMETRO\n",
        "#MIN=[-500,-500] # MINIMO DE CADA PARAMETRO\n",
        "  #Global optimum: f(xi)= 0 for xi = 420.968746 for i=1,...,n  ;  xi in [-500,500]  \n",
        "#'''\n",
        "\n",
        "############################### DADOS DE ENTRADA \n",
        "NPAR=175 # AGENTES\n",
        "ITE=300 #ITERACOES\n",
        "PAR=PAR=len(MAX) #NUM DE PARAMETROS A SER OTIMIZADOS\n",
        "RUNS=100\n",
        "\n",
        "############################## RESOLUÇÃO E IMPRESSÃO\n",
        "start_time = time.time()\n",
        "\n",
        "BEST_AGENTS=[]\n",
        "for i in range(RUNS):\n",
        "    X=Enxame.Enxame(PAR,NPAR,MAX,MIN) # inicializa lobos\n",
        "    \n",
        "    BEST_GWO,FOBEST_GWO,XY_GWO,BEST_XY_GWO=GWO.GWO(ITE,PAR,NPAR,MAX,MIN,Fun,X)\n",
        "    BEST_AGENTS.append(BEST_XY_GWO)\n",
        "\n",
        "\n",
        "#print(\"BEST=\",BEST_GWO,\"  FOBEST=\",FOBEST_GWO,\"\\n\")\n",
        "\n",
        "############################## Cálculo dos Parâmetros de Avaliação   \n",
        "TIME = (time.time() - start_time)/RUNS\n",
        "BEST_AGENTS=np.array(BEST_AGENTS)\n",
        "BEST_AGENTS_ST= BEST_AGENTS[BEST_AGENTS[:,-1].argsort()]\n",
        "BEST=BEST_AGENTS_ST[0]\n",
        "WORSE=BEST_AGENTS_ST[-1]\n",
        "MEAN=np.mean(BEST_AGENTS,axis=0)\n",
        "MAXFO=BEST_AGENTS[:,-1].max()\n",
        "MINFO=BEST_AGENTS[:,-1].min()\n",
        "STD=BEST_AGENTS[:,-1].std()\n",
        "\n",
        "print(\"\\n\",\"GWO _\",NPAR,\"Agentes _\",ITE,\"Iterações _\",\"Min/Max=\",MIN[0],\"/\",MAX[0],'_',Fun.__name__)\n",
        "print('Métodos simples:',NPAR,'Agentes_',ITE,'Iterações_','Dim=', PAR, '\\n')\n",
        "#print('BEST: ',BEST)\n",
        "#print('MÉDIA: ',MEAN)\n",
        "print('MÉDIA: ',MEAN[-1])\n",
        "print('MIN __: ',MINFO)\n",
        "print('MAX__: ',MAXFO)\n",
        "print('STD __: ',STD)\n",
        "print(\"Tempo Médio= %.3f segundos ---\" % (TIME))\n",
        "print(RUNS,'Rodadas')"
      ],
      "execution_count": 0,
      "outputs": [
        {
          "output_type": "stream",
          "text": [
            "\n",
            " GWO _ 175 Agentes _ 300 Iterações _ Min/Max= -500 / 500 _ Schwefel\n",
            "Métodos simples: 175 Agentes_ 300 Iterações_ Dim= 3 \n",
            "\n",
            "MÉDIA:  201.59260703901674\n",
            "MIN __:  0.0018842355634660635\n",
            "MAX__:  538.0838296363831\n",
            "STD __:  150.8291878126783\n",
            "Tempo Médio= 1.577 segundos ---\n",
            "100 Rodadas\n"
          ],
          "name": "stdout"
        }
      ]
    }
  ]
}