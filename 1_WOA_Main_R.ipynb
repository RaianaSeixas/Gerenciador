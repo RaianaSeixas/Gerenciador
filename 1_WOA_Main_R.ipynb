{
  "nbformat": 4,
  "nbformat_minor": 0,
  "metadata": {
    "colab": {
      "name": "1_WOA_Main_R.ipynb",
      "version": "0.3.2",
      "provenance": [],
      "collapsed_sections": [],
      "include_colab_link": true
    },
    "kernelspec": {
      "name": "python3",
      "display_name": "Python 3"
    }
  },
  "cells": [
    {
      "cell_type": "markdown",
      "metadata": {
        "id": "view-in-github",
        "colab_type": "text"
      },
      "source": [
        "<a href=\"https://colab.research.google.com/github/RaianaSeixas/GERENCIADOR/blob/master/1_WOA_Main_R.ipynb\" target=\"_parent\"><img src=\"https://colab.research.google.com/assets/colab-badge.svg\" alt=\"Open In Colab\"/></a>"
      ]
    },
    {
      "cell_type": "code",
      "metadata": {
        "id": "AByu4tjFEkVO",
        "colab_type": "code",
        "outputId": "a8a4f9fc-605e-49d1-9b7c-02c8e8794f00",
        "colab": {
          "base_uri": "https://localhost:8080/",
          "height": 137
        }
      },
      "source": [
        "!git clone https://github.com/RaianaSeixas/GERENCIADOR.git #clonar do Github"
      ],
      "execution_count": 2,
      "outputs": [
        {
          "output_type": "stream",
          "text": [
            "Cloning into 'GERENCIADOR'...\n",
            "remote: Enumerating objects: 16, done.\u001b[K\n",
            "remote: Counting objects: 100% (16/16), done.\u001b[K\n",
            "remote: Compressing objects: 100% (16/16), done.\u001b[K\n",
            "remote: Total 101 (delta 5), reused 0 (delta 0), pack-reused 85\u001b[K\n",
            "Receiving objects: 100% (101/101), 44.09 KiB | 8.82 MiB/s, done.\n",
            "Resolving deltas: 100% (49/49), done.\n"
          ],
          "name": "stdout"
        }
      ]
    },
    {
      "cell_type": "code",
      "metadata": {
        "id": "7gz07-63E_kY",
        "colab_type": "code",
        "outputId": "e004ac40-e61a-466e-ef19-f961d85df714",
        "colab": {
          "base_uri": "https://localhost:8080/",
          "height": 120
        }
      },
      "source": [
        "%cd\n",
        "%cd /content/GERENCIADOR\n",
        "!ls"
      ],
      "execution_count": 3,
      "outputs": [
        {
          "output_type": "stream",
          "text": [
            "/root\n",
            "/content/GERENCIADOR\n",
            "1_WOA_Main_R.ipynb    4_GWO_Main_R.ipynb    Enxame.py\t PSO.py\n",
            "2_ABC_Main_R.ipynb    ABCMC.py\t\t    Function.py  WOA.py\n",
            "2_ABCMC_Main_R.ipynb  ABC.py\t\t    GWO.py\n",
            "3_PSO_Main_R.ipynb    DE_jun_16_2019.ipynb  MUT.py\n"
          ],
          "name": "stdout"
        }
      ]
    },
    {
      "cell_type": "code",
      "metadata": {
        "id": "chJ2W932F2wo",
        "colab_type": "code",
        "outputId": "3ffe5e7b-3f2a-4221-8996-b15b5be4af36",
        "colab": {
          "base_uri": "https://localhost:8080/",
          "height": 188
        }
      },
      "source": [
        "import WOA\n",
        "import Function\n",
        "import Enxame\n",
        "import time\n",
        "import numpy as np\n",
        "############################### Função\n",
        "'''\n",
        "Fun=Function.Rosenbrock\n",
        "dim=30\n",
        "MAX=np.repeat(10,dim)\n",
        "MIN=np.repeat(-10,dim)\n",
        "#MAX=[30,30] # MAXIMO DE CADA PARAMETRO\n",
        "#MIN=[-30,-30] # MINIMO DE CADA PARAMETRO\n",
        "  #Global optimum: f(xi)= 0\n",
        "'''\n",
        "'''\n",
        "Fun=Function.Shubert\n",
        "MAX=[10,10] # MAXIMO DE CADA PARAMETRO\n",
        "MIN=[-10,-10] # MINIMO DE CADA PARAMETRO\n",
        "  # Global Minimum: -186.7309 ; xi ∈ [-10,10]\n",
        "'''\n",
        "#'''\n",
        "dim=3\n",
        "Fun=Function.Schwefel\n",
        "MAX=np.repeat(500,dim)\n",
        "MIN=np.repeat(-500,dim)\n",
        "#MAX=[500,500] # MAXIMO DE CADA PARAMETRO\n",
        "#MIN=[-500,-500] # MINIMO DE CADA PARAMETRO\n",
        "  #Global optimum: f(xi)= 0 for xi = 420.968746 for i=1,...,n  ;  xi in [-500,500]  \n",
        "#'''\n",
        "\n",
        "############################### DADOS DE ENTRADA \n",
        "NPAR=175 #Baleias\n",
        "ITE=300 #ITERACOES\n",
        "PAR=len(MAX) #NUM DE PARAMETROS A SER OTIMIZADOS\n",
        "RUNS=100\n",
        "\n",
        "############################## RESOLUÇÃO E IMPRESSÃO\n",
        "start_time = time.time()\n",
        "\n",
        "BEST_AGENTS=[]\n",
        "for i in range(RUNS):\n",
        "\n",
        "    X=Enxame.Enxame(PAR,NPAR,MAX,MIN) # inicializa baleias\n",
        "    BEST_WOA,FOBEST_WOA,XY_WOA,BEST_XY_WOA=WOA.WOA(ITE,PAR,NPAR,MAX,MIN,Fun,X) #Roda Algoritmo\n",
        "    BEST_AGENTS.append(BEST_XY_WOA)\n",
        "\n",
        "#print(\"BEST=\",BEST_WOA,\"  FOBEST=\",FOBEST_WOA,\"\\n\")\n",
        "\n",
        "\n",
        "############################## Cálculo dos Parâmetros de Avaliação   \n",
        "TIME = (time.time() - start_time)/RUNS\n",
        "BEST_AGENTS=np.array(BEST_AGENTS)\n",
        "BEST_AGENTS_ST= BEST_AGENTS[BEST_AGENTS[:,-1].argsort()]\n",
        "BEST=BEST_AGENTS_ST[0]\n",
        "WORSE=BEST_AGENTS_ST[-1]\n",
        "MEAN=np.mean(BEST_AGENTS,axis=0)\n",
        "MAXFO=BEST_AGENTS[:,-1].max()\n",
        "MINFO=BEST_AGENTS[:,-1].min()\n",
        "STD=BEST_AGENTS[:,-1].std()\n",
        "\n",
        "print(\"\\n\",\"WOA _\",NPAR,\"Agentes _\",ITE,\"Iterações _\",\"Min/Max=\",MIN[0],\"/\",MAX[0],'_',Fun.__name__)\n",
        "print('Métodos simples:',NPAR,'Agentes_',ITE,'Iterações_','Dim=', PAR, '\\n')\n",
        "#print('BEST: ',BEST)\n",
        "#print('MÉDIA: ',MEAN)\n",
        "print('MÉDIA: ',MEAN[-1])\n",
        "print('MIN __: ',MINFO)\n",
        "print('MAX__: ',MAXFO)\n",
        "print('STD __: ',STD)\n",
        "print(\"Tempo Médio= %.3f segundos ---\" % (TIME))\n",
        "print(RUNS,'Rodadas')"
      ],
      "execution_count": 4,
      "outputs": [
        {
          "output_type": "stream",
          "text": [
            "\n",
            " WOA _ 175 Agentes _ 300 Iterações _ Min/Max= -500 / 500 _ Schwefel\n",
            "Métodos simples: 175 Agentes_ 300 Iterações_ Dim= 3 \n",
            "\n",
            "MÉDIA:  5.954187033310493\n",
            "MIN __:  0.0016598206225353351\n",
            "MAX__:  118.4636385142012\n",
            "STD __:  25.80842192511937\n",
            "Tempo Médio= 2.017 segundos ---\n",
            "100 Rodadas\n"
          ],
          "name": "stdout"
        }
      ]
    },
    {
      "cell_type": "code",
      "metadata": {
        "id": "sQC7qS4II1FB",
        "colab_type": "code",
        "colab": {
          "base_uri": "https://localhost:8080/",
          "height": 406
        },
        "outputId": "9c418584-1197-480d-a8fb-6f7eb9021e35"
      },
      "source": [
        "best=BEST_AGENTS[:,-1]\n",
        "import matplotlib.pyplot as plt\n",
        "plt.boxplot(best,showmeans=True)"
      ],
      "execution_count": 5,
      "outputs": [
        {
          "output_type": "execute_result",
          "data": {
            "text/plain": [
              "{'boxes': [<matplotlib.lines.Line2D at 0x7f458978cd30>],\n",
              " 'caps': [<matplotlib.lines.Line2D at 0x7f458979a588>,\n",
              "  <matplotlib.lines.Line2D at 0x7f458979a8d0>],\n",
              " 'fliers': [<matplotlib.lines.Line2D at 0x7f45897aa2b0>],\n",
              " 'means': [<matplotlib.lines.Line2D at 0x7f458979af60>],\n",
              " 'medians': [<matplotlib.lines.Line2D at 0x7f458979ac18>],\n",
              " 'whiskers': [<matplotlib.lines.Line2D at 0x7f458978ceb8>,\n",
              "  <matplotlib.lines.Line2D at 0x7f458979a240>]}"
            ]
          },
          "metadata": {
            "tags": []
          },
          "execution_count": 5
        },
        {
          "output_type": "display_data",
          "data": {
            "image/png": "[encoded data removed]",
            "text/plain": [
              "<Figure size 432x288 with 1 Axes>"
            ]
          },
          "metadata": {
            "tags": []
          }
        }
      ]
    },
    {
      "cell_type": "code",
      "metadata": {
        "id": "IEV-OUKQI6Ai",
        "colab_type": "code",
        "colab": {
          "base_uri": "https://localhost:8080/",
          "height": 406
        },
        "outputId": "01c6db0d-c8ea-4355-98c0-a805144c8c3a"
      },
      "source": [
        "plt.boxplot(best,showmeans=True,sym='')"
      ],
      "execution_count": 6,
      "outputs": [
        {
          "output_type": "execute_result",
          "data": {
            "text/plain": [
              "{'boxes': [<matplotlib.lines.Line2D at 0x7f4586f20f98>],\n",
              " 'caps': [<matplotlib.lines.Line2D at 0x7f4586f2a7f0>,\n",
              "  <matplotlib.lines.Line2D at 0x7f4586f2ab38>],\n",
              " 'fliers': [],\n",
              " 'means': [<matplotlib.lines.Line2D at 0x7f4586f32208>],\n",
              " 'medians': [<matplotlib.lines.Line2D at 0x7f4586f2ae80>],\n",
              " 'whiskers': [<matplotlib.lines.Line2D at 0x7f4586f2a128>,\n",
              "  <matplotlib.lines.Line2D at 0x7f4586f2a4a8>]}"
            ]
          },
          "metadata": {
            "tags": []
          },
          "execution_count": 6
        },
        {
          "output_type": "display_data",
          "data": {
            "image/png": "[encoded data removed]",
            "text/plain": [
              "<Figure size 432x288 with 1 Axes>"
            ]
          },
          "metadata": {
            "tags": []
          }
        }
      ]
    }
  ]
}