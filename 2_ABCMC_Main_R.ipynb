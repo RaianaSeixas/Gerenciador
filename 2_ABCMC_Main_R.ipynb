{
  "nbformat": 4,
  "nbformat_minor": 0,
  "metadata": {
    "colab": {
      "name": "2_ABCMC_Main_R.ipynb",
      "version": "0.3.2",
      "provenance": [],
      "include_colab_link": true
    },
    "kernelspec": {
      "name": "python3",
      "display_name": "Python 3"
    }
  },
  "cells": [
    {
      "cell_type": "markdown",
      "metadata": {
        "id": "view-in-github",
        "colab_type": "text"
      },
      "source": [
        "<a href=\"https://colab.research.google.com/github/RaianaSeixas/GERENCIADOR/blob/master/2_ABCMC_Main_R.ipynb\" target=\"_parent\"><img src=\"https://colab.research.google.com/assets/colab-badge.svg\" alt=\"Open In Colab\"/></a>"
      ]
    },
    {
      "cell_type": "code",
      "metadata": {
        "id": "RZVn7R9BDD3U",
        "colab_type": "code",
        "outputId": "8bbaeacd-b319-4e8c-b04b-424513a558c6",
        "colab": {
          "base_uri": "https://localhost:8080/",
          "height": 34
        }
      },
      "source": [
        "!git clone https://github.com/RaianaSeixas/GERENCIADOR.git #clonar do Github"
      ],
      "execution_count": 0,
      "outputs": [
        {
          "output_type": "stream",
          "text": [
            "fatal: destination path 'GERENCIADOR' already exists and is not an empty directory.\n"
          ],
          "name": "stdout"
        }
      ]
    },
    {
      "cell_type": "code",
      "metadata": {
        "id": "0mzBem1zDFQO",
        "colab_type": "code",
        "outputId": "33137f5f-d648-4852-8e84-529f90c9b602",
        "colab": {
          "base_uri": "https://localhost:8080/",
          "height": 87
        }
      },
      "source": [
        "%cd\n",
        "%cd /content/GERENCIADOR\n",
        "!ls"
      ],
      "execution_count": 0,
      "outputs": [
        {
          "output_type": "stream",
          "text": [
            "/root\n",
            "/content/GERENCIADOR\n",
            "ABCMC.py  Enxame.py    GERENCIADOR  MUT.py  __pycache__\n",
            "ABC.py\t  Function.py  GWO.py\t    PSO.py  WOA.py\n"
          ],
          "name": "stdout"
        }
      ]
    },
    {
      "cell_type": "code",
      "metadata": {
        "id": "mygKcirJDH56",
        "colab_type": "code",
        "outputId": "43b7e98b-27de-41fc-8380-aace043e6745",
        "colab": {
          "base_uri": "https://localhost:8080/",
          "height": 193
        }
      },
      "source": [
        "import ABCMC\n",
        "import Function\n",
        "import Enxame\n",
        "import time\n",
        "import numpy as np\n",
        "############################### Função\n",
        "'''\n",
        "Fun=Function.Rosenbrock\n",
        "dim=30\n",
        "MAX=np.repeat(10,dim)\n",
        "MIN=np.repeat(-10,dim)\n",
        "#MAX=[30,30] # MAXIMO DE CADA PARAMETRO\n",
        "#MIN=[-30,-30] # MINIMO DE CADA PARAMETRO\n",
        "  #Global optimum: f(xi)= 0\n",
        "'''\n",
        "'''\n",
        "Fun=Function.Shubert\n",
        "MAX=[10,10] # MAXIMO DE CADA PARAMETRO\n",
        "MIN=[-10,-10] # MINIMO DE CADA PARAMETRO\n",
        "  # Global Minimum: -186.7309 ; xi ∈ [-10,10]\n",
        "'''\n",
        "#'''\n",
        "dim=3\n",
        "Fun=Function.Schwefel\n",
        "MAX=np.repeat(500,dim)\n",
        "MIN=np.repeat(-500,dim)\n",
        "#MAX=[500,500] # MAXIMO DE CADA PARAMETRO\n",
        "#MIN=[-500,-500] # MINIMO DE CADA PARAMETRO\n",
        "  #Global optimum: f(xi)= 0 for xi = 420.968746 for i=1,...,n  ;  xi in [-500,500]  \n",
        "#'''\n",
        "############################### DADOS DE ENTRADA \n",
        "NPAR=175 #PARTICULAS\n",
        "ITE=300 #ITERACOES\n",
        "PAR=len(MAX) #NUM DE PARAMETROS A SER OTIMIZADOS\n",
        "ntrail = 10 #numero de buscas ate abandonar uma fonte de alimento\n",
        "RUNS=10\n",
        "\n",
        "############################## RESOLUÇÃO E IMPRESSÃO\n",
        "start_time = time.time()\n",
        "\n",
        "BEST_AGENTS=[]\n",
        "\n",
        "for i in range(RUNS):\n",
        "    \n",
        "    X=Enxame.Enxame(PAR,NPAR,MAX,MIN) # inicializa employed bee\n",
        "    BEST_ABC,FOBEST_ABC,XY_ABC,BEST_XY_ABC=ABCMC.ABCOPtim(ITE,PAR,NPAR,MAX,MIN,Fun,X,ntrail)\n",
        "    BEST_AGENTS.append(BEST_XY_ABC)\n",
        "\n",
        "#print(\"BEST=\",BEST_ABC,\"  FOBEST=\",FOBEST_ABC, \"\\n\")\n",
        "\n",
        "############################## Cálculo dos Parâmetros de Avaliação   \n",
        "TIME = (time.time() - start_time)/RUNS\n",
        "BEST_AGENTS=np.array(BEST_AGENTS)\n",
        "BEST_AGENTS_ST= BEST_AGENTS[BEST_AGENTS[:,-1].argsort()]\n",
        "BEST=BEST_AGENTS_ST[0]\n",
        "WORSE=BEST_AGENTS_ST[-1]\n",
        "MEAN=np.mean(BEST_AGENTS,axis=0)\n",
        "MAXFO=BEST_AGENTS[:,-1].max()\n",
        "MINFO=BEST_AGENTS[:,-1].min()\n",
        "STD=BEST_AGENTS[:,-1].std()\n",
        "\n",
        "print(\"\\n\",\"ABC _\",NPAR,\"Agentes _\",ITE,\"Iterações _\",\"Min/Max=\",MIN[0],\"/\",MAX[0],'_',Fun.__name__)\n",
        "print('Métodos simples:',NPAR,'Agentes_',ITE,'Iterações_','Dim=', PAR, '\\n')\n",
        "#print('BEST: ',BEST)\n",
        "#print('MÉDIA: ',MEAN)\n",
        "print('MÉDIA: ',MEAN[-1])\n",
        "print('MIN __: ',MINFO)\n",
        "print('MAX__: ',MAXFO)\n",
        "print('STD __: ',STD)\n",
        "print(\"Tempo Médio= %.3f segundos ---\" % (TIME))\n",
        "print(RUNS,'Rodadas')"
      ],
      "execution_count": 0,
      "outputs": [
        {
          "output_type": "stream",
          "text": [
            "\n",
            " ABC _ 175 Agentes _ 300 Iterações _ Min/Max= -500 / 500 _ Schwefel\n",
            "Métodos simples: 175 Agentes_ 300 Iterações_ Dim= 3 \n",
            "\n",
            "MÉDIA:  15.66413546264921\n",
            "MIN __:  6.3867490446493775\n",
            "MAX__:  34.46420125688178\n",
            "STD __:  8.10948376062604\n",
            "Tempo Médio= 5.897 segundos ---\n",
            "10 Rodadas\n"
          ],
          "name": "stdout"
        }
      ]
    }
  ]
}