{
  "nbformat": 4,
  "nbformat_minor": 0,
  "metadata": {
    "colab": {
      "name": "Ger_DE_WOA_PSO_print_ago_27.ipynb",
      "version": "0.3.2",
      "provenance": [],
      "collapsed_sections": [],
      "include_colab_link": true
    },
    "kernelspec": {
      "name": "python3",
      "display_name": "Python 3"
    }
  },
  "cells": [
    {
      "cell_type": "markdown",
      "metadata": {
        "id": "view-in-github",
        "colab_type": "text"
      },
      "source": [
        "<a href=\"https://colab.research.google.com/github/RaianaSeixas/GERENCIADOR/blob/master/Ger_DE_WOA_PSO_print_ago_27.ipynb\" target=\"_parent\"><img src=\"https://colab.research.google.com/assets/colab-badge.svg\" alt=\"Open In Colab\"/></a>"
      ]
    },
    {
      "cell_type": "code",
      "metadata": {
        "id": "VNDZTKWUBOge",
        "colab_type": "code",
        "outputId": "6d5dedb0-cca5-4542-a497-e3d157a87c7e",
        "colab": {
          "base_uri": "https://localhost:8080/",
          "height": 34
        }
      },
      "source": [
        "############################### Importar códigos\n",
        "\n",
        "!git clone https://github.com/RaianaSeixas/GERENCIADOR.git #clonar do Github"
      ],
      "execution_count": 78,
      "outputs": [
        {
          "output_type": "stream",
          "text": [
            "fatal: destination path 'GERENCIADOR' already exists and is not an empty directory.\n"
          ],
          "name": "stdout"
        }
      ]
    },
    {
      "cell_type": "code",
      "metadata": {
        "id": "btZL0H3XBPx-",
        "colab_type": "code",
        "outputId": "30e551b9-65cf-43ff-8981-e0422f2fc097",
        "colab": {
          "base_uri": "https://localhost:8080/",
          "height": 104
        }
      },
      "source": [
        "%cd\n",
        "%cd /content/GERENCIADOR\n",
        "!ls"
      ],
      "execution_count": 79,
      "outputs": [
        {
          "output_type": "stream",
          "text": [
            "/root\n",
            "/content/GERENCIADOR\n",
            "1_WOA_Main_R.ipynb    4_GWO_Main_R.ipynb  DE.py        GERENCIADOR  PSO.py\n",
            "2_ABCMC_Main_R.ipynb  ABCMC.py\t\t  Enxame.py    GWO.py\t    __pycache__\n",
            "3_PSO_Main_R.ipynb    ABC.py\t\t  Function.py  MUT.py\t    WOA.py\n"
          ],
          "name": "stdout"
        }
      ]
    },
    {
      "cell_type": "code",
      "metadata": {
        "id": "v1OxgXboBKoG",
        "colab_type": "code",
        "outputId": "c7a1a7e2-8dcd-44e6-be0a-1eb38c08e43f",
        "colab": {
          "base_uri": "https://localhost:8080/",
          "height": 1000
        }
      },
      "source": [
        "############################### Importar bibliotecas e iniciar a contagem do tempo\n",
        "import time\n",
        "import matplotlib.pyplot as plt\n",
        "import numpy as np\n",
        "from random import randint\n",
        "\n",
        "############################### Importar códigos\n",
        "'''\n",
        "!git clone https://github.com/RaianaSeixas/GERENCIADOR.git #clonar do Github\n",
        "\n",
        "# %cd\n",
        "# %cd /content/GERENCIADOR\n",
        "!ls\n",
        "'''\n",
        "############################### DADOS DE ENTRADA \n",
        "RUNS=100 #NÚMERO DE RODADAS\n",
        "\n",
        "\n",
        "  ############################# FASE EXPLORAÇÃO \n",
        "ITE=30 #ITERACOES\n",
        "NPAR=180 #AGENTES POR MÉTODO\n",
        "\n",
        "  ############################# FASE MUTAÇÃO\n",
        "itermut=60 #Iterações de mutação \n",
        "nw=30 #Agentes totais na fase de mutação\n",
        "n=1 #qde de melhores agentes de tds os métodos coletados\n",
        "\n",
        "  ############################# FASE CONVERGÊNCIA\n",
        "ITE_G=120 #ITERAÇÕES\n",
        "PTRADE=10 #NUM DE PARTÍCULAS A SERERM TROCADAS ENTRE OS MÉTODOS (menos MET simples)\n",
        "\n",
        "W=0.75\n",
        "C1=2\n",
        "C2=2\n",
        "\n",
        "  ############################### Função\n",
        "import Function\n",
        "\n",
        "'''\n",
        "Fun=Function.Rosenbrock\n",
        "dim=3\n",
        "MAX=np.repeat(10,dim)\n",
        "MIN=np.repeat(-10,dim)\n",
        "#MAX=[30,30] # MAXIMO DE CADA PARAMETRO\n",
        "#MIN=[-30,-30] # MINIMO DE CADA PARAMETRO\n",
        "  #Global optimum: f(xi)= 0\n",
        "'''\n",
        "'''\n",
        "dim=20\n",
        "Fun=Function.Sphere\n",
        "MAX=np.repeat(5.12,dim)\n",
        "MIN=np.repeat(-5.12,dim)\n",
        "  # f(x)=0 x=(0,0) [-5.12,5.12]\n",
        "'''\n",
        "'''\n",
        "Fun=Function.Shubert\n",
        "MAX=[10,10] # MAXIMO DE CADA PARAMETRO\n",
        "MIN=[-10,-10] # MINIMO DE CADA PARAMETRO\n",
        "  # Global Minimum: -186.7309 ; xi ∈ [-10,10]\n",
        "'''\n",
        "#'''\n",
        "dim=3\n",
        "Fun=Function.Schwefel\n",
        "MAX=np.repeat(500,dim)\n",
        "MIN=np.repeat(-500,dim)\n",
        "  #Global optimum: f(xi)= 0 for xi = 420.968746 for i=1,...,n  ;  xi in [-500,500]  \n",
        "#'''\n",
        "'''\n",
        "dim=30\n",
        "Fun=Function.Rastrigin\n",
        "MAX=np.repeat(5.12,dim)\n",
        "MIN=np.repeat(-5.12,dim)\n",
        "  # f(x)=0 x=(0,0) [-5.12,5.12]\n",
        "'''\n",
        "\n",
        "PAR=len(MAX) #NUM DE PARAMETROS A SER OTIMIZADOS\n",
        "\n",
        "##################################### IMPORTAR MÓDULOS\n",
        "import Enxame\n",
        "import MUT\n",
        "import WOA\n",
        "import ABC\n",
        "import DE\n",
        "import PSO\n",
        "\n",
        "\n",
        "start_time = time.time() #INICIALIZA CONTAGEM DO TEMPO\n",
        "\n",
        "\n",
        "BEST_AGENTS=[]\n",
        "for i in range(RUNS):\n",
        "    \n",
        "##################################### BALEIAS - WOA\n",
        "      \n",
        "    X=Enxame.Enxame(PAR,NPAR,MAX,MIN) # inicializa baleias\n",
        "    \n",
        "    BEST_WOA,FOBEST_WOA,XY_WOA,BEST_XY_WOA=WOA.WOA(ITE,PAR,NPAR,MAX,MIN,Fun,X) #Roda Algoritmo\n",
        "    \n",
        "    print()\n",
        "    #print(\"\\n\",\"WOA _\",NPAR,\"Agentes _\",ITE,\"Iterações _\",\"Min/Max=\",MIN[0],\"/\",MAX[0],'_',Fun.__name__,\"\\n\")\n",
        "    #print(\"BEST=\",BEST_WOA,\"  FOBEST=\",FOBEST_WOA,\"\\n\")\n",
        "    print(\"FOBEST=\",FOBEST_WOA,\"\\n\")\n",
        "    \n",
        "    XY_WOA_T=XY_WOA[0:PTRADE,]\n",
        "    #print(XY_WOA_T)\n",
        "      \n",
        "##################################### DIFFERENTIAL EVOLUTION - DE\n",
        "      \n",
        "    #X=Enxame.Enxame(PAR,NPAR,MAX,MIN)\n",
        "    mut=0.8\n",
        "    crossp=0.7\n",
        "    BEST_DE,FOBEST_DE,XY_DE,BEST_XY_DE=DE.DE(MAX,MIN, mut, crossp, NPAR, ITE,Fun) #Roda Algoritmo\n",
        "\n",
        "    \n",
        "    #print(\"\\n\",\"WOA _\",NPAR,\"Agentes _\",ITE,\"Iterações _\",\"Min/Max=\",MIN[0],\"/\",MAX[0],'_',Fun.__name__,\"\\n\")\n",
        "    #print(\"BEST=\",BEST_DE,\"  FOBEST=\",FOBEST_DE,\"\\n\")\n",
        "    print(\"FOBEST=\",FOBEST_DE,\"\\n\")\n",
        "    \n",
        "    XY_DE_T=XY_DE[0:PTRADE,]\n",
        "    #print(XY_WOA_T)\n",
        "    \n",
        "################################### SOS Mutações\n",
        "\n",
        "    MBEST=np.vstack([BEST_XY_WOA,BEST_XY_DE]) # reúne o melhor agente de cada método\n",
        "    #print(MBEST)\n",
        "\n",
        "    XYm3=np.vstack((XY_WOA,XY_DE))\n",
        "    XYm3=XYm3[XYm3[:,-1].argsort()]\n",
        "    XYm3=XYm3[0:nw]\n",
        "    #print(XYm3)\n",
        "    \n",
        "    nt=1 #qde de melhores agentes de cada método coletados (primeira iter)\n",
        "    XY=np.vstack((XY_WOA[nt],XY_DE[nt]))\n",
        "    XY3BEST = XY[XY[:,-1].argsort()] #Ordena a partir de Y\n",
        "    XYCollect=XY3BEST\n",
        "      \n",
        "    #Aplica intermut iterações, coleta n melhores agentes, e faz um sort \n",
        "    for i in range(itermut):      \n",
        "        Xnew3=MUT.MUT3(XYm3,XY3BEST,nw,PAR,MAX,MIN) # Aplica Mutação\n",
        "        Ynew3=MUT.FOBJ(Xnew3,Fun) # Obter FO mutante\n",
        "               \n",
        "        #XYnew=MUT.XYsort(Xnew3,Ynew3) #Junta e ordena tds os agentes\n",
        "        XYnew= np.c_[Xnew3,Ynew3] #concatena X e Y\n",
        "        #print(XYnew)\n",
        "        for j in range(len(XYm3)):\n",
        "          if XYm3[:,-1][j]<XYnew[:,-1][j]:\n",
        "            XYnew[j]=np.copy(XYm3[j])\n",
        "        XYnew=XYnew[XYnew[:,-1].argsort()]\n",
        "        \n",
        "        XY3BEST=XYnew[0:n] \n",
        "        \n",
        "    #XYCOLECT=np.vstack((XYCOLECT,XY3BEST))\n",
        "    #XYCOLECTst = XYCOLECT[XYCOLECT[:,-1].argsort()]\n",
        "    BEST=XY3BEST[0]\n",
        "    FOBEST=BEST[-1]\n",
        "    print('Mut:',FOBEST)\n",
        "  \n",
        "    \n",
        "################################### GERENCIADOR\n",
        "    \n",
        "    #XY_G3new=np.vstack((XYCollect,XYm3[0:PTRADE]))\n",
        "    XY_G3new=np.vstack((MBEST,XYnew[0:PTRADE]))\n",
        "    #print(XY_G3new)\n",
        "    X_G3new=MUT.GETX(XY_G3new,PAR) #Extrai as primeiras colunas (valores de X)\n",
        "       \n",
        "    BEST_G,FOBEST_G,XY_G,BEST_XY_G=PSO.PSO(W,C1,C2,len(X_G3new),(ITE_G),PAR,MAX,MIN,Fun,X_G3new)\n",
        "    \n",
        "    BEST_AGENTS.append(BEST_XY_G)\n",
        "    \n",
        "    #print(\"\\n\",\"Gerenciador 3_NEW\",len(X_G3new),\"Agentes _\",ITE_G,\"Iterações _\",\"Min/Max=\",MIN[0],\"/\",MAX[0],'_',Fun.__name__,\"\\n\")\n",
        "    #print(\"BEST=\",BEST_G,\"  FOBEST=\",FOBEST_G,\"\\n\")\n",
        "    print(\"FOBEST=\",FOBEST_G,\"\\n\")\n",
        "       \n",
        "############################## Cálculo dos Parâmetros de Avaliação  \n",
        "\n",
        "TIME = (time.time() - start_time)/RUNS\n",
        "BEST_AGENTS=np.array(BEST_AGENTS)\n",
        "BEST_AGENTS_ST= BEST_AGENTS[BEST_AGENTS[:,-1].argsort()]\n",
        "BEST=BEST_AGENTS_ST[0]\n",
        "WORSE=BEST_AGENTS_ST[-1]\n",
        "MEAN=np.mean(BEST_AGENTS,axis=0)\n",
        "MAXFO=BEST_AGENTS[:,-1].max()\n",
        "MINFO=BEST_AGENTS[:,-1].min()\n",
        "STD=BEST_AGENTS[:,-1].std()\n",
        "\n",
        "print(\"\\n\",\"Gerenciador MC_\",\"Min/Max=\",MIN[0],\"/\",MAX[0],'_','Dim=', PAR,'_',Fun.__name__)\n",
        "print('Fase Exploração:  ',NPAR,'Agentes_',ITE,'Iterações')\n",
        "print('Fase Mutação:     ',nw,'Agentes_',itermut,'Iterações')\n",
        "print('Fase Convergência:',len(X_G3new),\" Agentes_\",ITE_G,\"Iterações\",'\\n')\n",
        "#print('BEST: ',BEST)\n",
        "#print('MÉDIA: ',MEAN)\n",
        "print('MÉDIA: ',MEAN[-1])\n",
        "print('MIN__: ',MINFO)\n",
        "print('MAX__: ',MAXFO)\n",
        "print('STD__: ',STD)\n",
        "print(\"Tempo Médio= %.3f segundos ---\" % (TIME))\n",
        "print(RUNS,'Rodadas')"
      ],
      "execution_count": 80,
      "outputs": [
        {
          "output_type": "stream",
          "text": [
            "\n",
            "FOBEST= 119.69806227688878 \n",
            "\n",
            "FOBEST= 17.70193617954692 \n",
            "\n",
            "Mut: 17.70193617954692\n",
            "FOBEST= 17.70193617954692 \n",
            "\n",
            "\n",
            "FOBEST= 1.8317547887604633 \n",
            "\n",
            "FOBEST= 27.830583492284404 \n",
            "\n",
            "Mut: 0.1982715842500511\n",
            "FOBEST= 0.1982715842500511 \n",
            "\n",
            "\n",
            "FOBEST= 1.336955309996256 \n",
            "\n",
            "FOBEST= 2.8322105875874968 \n",
            "\n",
            "Mut: 0.38264457708351074\n",
            "FOBEST= 0.38264457708351074 \n",
            "\n",
            "\n",
            "FOBEST= 119.42324941650077 \n",
            "\n",
            "FOBEST= 11.248886338383272 \n",
            "\n",
            "Mut: 11.248886338383272\n",
            "FOBEST= 11.248886338383272 \n",
            "\n",
            "\n",
            "FOBEST= 124.38313802525181 \n",
            "\n",
            "FOBEST= 24.16362265947282 \n",
            "\n",
            "Mut: 24.16362265947282\n",
            "FOBEST= 24.16362265947282 \n",
            "\n",
            "\n",
            "FOBEST= 0.43963154005177785 \n",
            "\n",
            "FOBEST= 9.266473105756631 \n",
            "\n",
            "Mut: 0.0746973811267253\n",
            "FOBEST= 0.0746973811267253 \n",
            "\n",
            "\n",
            "FOBEST= 119.24425169345227 \n",
            "\n",
            "FOBEST= 19.364056264607825 \n",
            "\n",
            "Mut: 19.364056264607825\n",
            "FOBEST= 2.745247145641997 \n",
            "\n",
            "\n",
            "FOBEST= 118.89391861703916 \n",
            "\n",
            "FOBEST= 41.32171135513454 \n",
            "\n",
            "Mut: 41.32171135513454\n",
            "FOBEST= 10.723663316890452 \n",
            "\n",
            "\n",
            "FOBEST= 119.82421370364432 \n",
            "\n",
            "FOBEST= 0.4030193902394785 \n",
            "\n",
            "Mut: 0.4030193902394785\n",
            "FOBEST= 0.4030193902394785 \n",
            "\n",
            "\n",
            "FOBEST= 24.571681847083028 \n",
            "\n",
            "FOBEST= 10.991834701888138 \n",
            "\n",
            "Mut: 10.991834701888138\n",
            "FOBEST= 5.368935044813497 \n",
            "\n",
            "\n",
            " Gerenciador MC_ Min/Max= -500 / 500 _ Dim= 3 _ Schwefel\n",
            "Fase Exploração:   180 Agentes_ 30 Iterações\n",
            "Fase Mutação:      30 Agentes_ 60 Iterações\n",
            "Fase Convergência: 12  Agentes_ 120 Iterações \n",
            "\n",
            "MÉDIA:  7.301092361744873\n",
            "MIN__:  0.0746973811267253\n",
            "MAX__:  24.16362265947282\n",
            "STD__:  8.015171144785155\n",
            "Tempo Médio= 1.174 segundos ---\n",
            "10 Rodadas\n"
          ],
          "name": "stdout"
        }
      ]
    },
    {
      "cell_type": "code",
      "metadata": {
        "id": "Oc6C69U4ygZd",
        "colab_type": "code",
        "colab": {}
      },
      "source": [
        "best=BEST_AGENTS[:,-1]"
      ],
      "execution_count": 0,
      "outputs": []
    },
    {
      "cell_type": "code",
      "metadata": {
        "id": "c6spRYlcyxL2",
        "colab_type": "code",
        "outputId": "38536e42-0230-4ec0-9a16-77a5b4ca9eaa",
        "colab": {
          "base_uri": "https://localhost:8080/",
          "height": 408
        }
      },
      "source": [
        "plt.boxplot(best,showmeans=True)"
      ],
      "execution_count": 84,
      "outputs": [
        {
          "output_type": "execute_result",
          "data": {
            "text/plain": [
              "{'boxes': [<matplotlib.lines.Line2D at 0x7fe0469005c0>],\n",
              " 'caps': [<matplotlib.lines.Line2D at 0x7fe046900dd8>,\n",
              "  <matplotlib.lines.Line2D at 0x7fe0468aa160>],\n",
              " 'fliers': [<matplotlib.lines.Line2D at 0x7fe0468aab00>],\n",
              " 'means': [<matplotlib.lines.Line2D at 0x7fe0468aa7f0>],\n",
              " 'medians': [<matplotlib.lines.Line2D at 0x7fe0468aa4a8>],\n",
              " 'whiskers': [<matplotlib.lines.Line2D at 0x7fe046900710>,\n",
              "  <matplotlib.lines.Line2D at 0x7fe046900a90>]}"
            ]
          },
          "metadata": {
            "tags": []
          },
          "execution_count": 84
        },
        {
          "output_type": "display_data",
          "data": {
            "image/png": "[encoded data removed]",
            "text/plain": [
              "<Figure size 432x288 with 1 Axes>"
            ]
          },
          "metadata": {
            "tags": []
          }
        }
      ]
    },
    {
      "cell_type": "code",
      "metadata": {
        "id": "AjNcgbI20sNH",
        "colab_type": "code",
        "outputId": "c5152664-8299-4a90-af16-6826aaa8fee0",
        "colab": {
          "base_uri": "https://localhost:8080/",
          "height": 408
        }
      },
      "source": [
        "plt.boxplot(best,showmeans=True,sym='')"
      ],
      "execution_count": 85,
      "outputs": [
        {
          "output_type": "execute_result",
          "data": {
            "text/plain": [
              "{'boxes': [<matplotlib.lines.Line2D at 0x7fe046878128>],\n",
              " 'caps': [<matplotlib.lines.Line2D at 0x7fe046878940>,\n",
              "  <matplotlib.lines.Line2D at 0x7fe046878c88>],\n",
              " 'fliers': [],\n",
              " 'means': [<matplotlib.lines.Line2D at 0x7fe046884358>],\n",
              " 'medians': [<matplotlib.lines.Line2D at 0x7fe046878fd0>],\n",
              " 'whiskers': [<matplotlib.lines.Line2D at 0x7fe046878278>,\n",
              "  <matplotlib.lines.Line2D at 0x7fe0468785f8>]}"
            ]
          },
          "metadata": {
            "tags": []
          },
          "execution_count": 85
        },
        {
          "output_type": "display_data",
          "data": {
            "image/png": "[encoded data removed]",
            "text/plain": [
              "<Figure size 432x288 with 1 Axes>"
            ]
          },
          "metadata": {
            "tags": []
          }
        }
      ]
    }
  ]
}